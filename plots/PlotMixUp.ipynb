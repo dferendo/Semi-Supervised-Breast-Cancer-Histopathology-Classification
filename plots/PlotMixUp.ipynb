{
 "cells": [
  {
   "cell_type": "code",
   "execution_count": 3,
   "metadata": {
    "collapsed": true,
    "pycharm": {
     "is_executing": false
    }
   },
   "outputs": [],
   "source": [
    "import os\n",
    "import sys\n",
    "import matplotlib\n",
    "import matplotlib.pyplot as plt\n",
    "import numpy as np\n",
    "import glob\n",
    "import csv\n",
    "import pandas as pd\n",
    "%matplotlib inline\n",
    "import re\n",
    "import seaborn as sns\n",
    "sns.set_style(\"whitegrid\")"
   ]
  },
  {
   "cell_type": "code",
   "execution_count": 6,
   "outputs": [],
   "source": [
    "base_folder_location = '../scripts/Final/'\n",
    "\n",
    "mixup_location =  os.path.join(base_folder_location, 'RemovingMixUpTest/experiments/*')\n",
    "mixmatch_location =  os.path.join(base_folder_location, 'MixMatch/experiments/*')"
   ],
   "metadata": {
    "collapsed": false,
    "pycharm": {
     "name": "#%%\n",
     "is_executing": false
    }
   }
  },
  {
   "cell_type": "code",
   "execution_count": 8,
   "outputs": [],
   "source": [
    "def print_loss_graphs(location, name):\n",
    "    folders = []\n",
    "    \n",
    "    for index, folder in enumerate(glob.glob(location)):    \n",
    "        if '40X' not in folder:\n",
    "            continue\n",
    "\n",
    "        if not folder.endswith('5'):\n",
    "            continue\n",
    "            \n",
    "        path = os.path.join(folder, 'result_outputs/summary.csv')\n",
    "        folders.append(path)\n",
    "        \n",
    "    return folders\n",
    "\n",
    "mixupfolders = print_loss_graphs(mixup_location, 'MixUp')\n",
    "mixmatchfolders = print_loss_graphs(mixmatch_location, 'MixMatch')"
   ],
   "metadata": {
    "collapsed": false,
    "pycharm": {
     "name": "#%%\n",
     "is_executing": false
    }
   }
  },
  {
   "cell_type": "code",
   "execution_count": 13,
   "outputs": [
    {
     "data": {
      "text/plain": "<Figure size 432x288 with 0 Axes>"
     },
     "metadata": {},
     "output_type": "display_data"
    }
   ],
   "source": [
    "for index, mixup in enumerate(mixupfolders):\n",
    "    \n",
    "    if mixup.replace('RemovingMixUpTest', 'MixMatch') not in mixmatchfolders:\n",
    "        continue\n",
    "        \n",
    "    df_mixup = pd.read_csv(mixup)\n",
    "    df_mixmatch = pd.read_csv(mixup.replace('RemovingMixUpTest', 'MixMatch'))\n",
    "\n",
    "    df_mixup.columns = ['Training Accuracy', 'Training Loss', 'Validation Accuracy', 'Validation Loss',  'Validation F1 Score', \n",
    "                        'val_precision', 'val_recall', 'Epoch']\n",
    "    df_mixmatch.columns = ['Training Accuracy', 'Training Loss', 'Validation Accuracy', 'Validation Loss',  'Validation F1 Score', \n",
    "                               'val_precision', 'val_recall', 'Epoch']\n",
    "\n",
    "    sns.lineplot(x=\"Epoch\", y=\"Validation Loss\", label=\"Val Loss With MixUp\",\n",
    "                 markers=True, data=df_mixmatch, ci=None)\n",
    "\n",
    "    sns.lineplot(x=\"Epoch\", y=\"Validation Loss\", label=\"Val Loss Without MixUp\",\n",
    "                 markers=True, data=df_mixup, ci=None)\n",
    "    \n",
    "    # sns.lineplot(x=\"Epoch\", y=\"Training Loss\", label=\"Train Loss With MixUp\",\n",
    "    #              markers=True, data=df_mixmatch, ci=None)\n",
    "    # \n",
    "    # sns.lineplot(x=\"Epoch\", y=\"Training Loss\", label=\"Train Loss Without MixUp\",\n",
    "    #              markers=True, data=df_mixup, ci=None)\n",
    "\n",
    "    plt.savefig(f'MixUp_{index}.pdf')\n",
    "    plt.clf()"
   ],
   "metadata": {
    "collapsed": false,
    "pycharm": {
     "name": "#%%\n",
     "is_executing": false
    }
   }
  },
  {
   "cell_type": "code",
   "execution_count": null,
   "outputs": [],
   "source": [],
   "metadata": {
    "collapsed": false,
    "pycharm": {
     "name": "#%%\n"
    }
   }
  }
 ],
 "metadata": {
  "kernelspec": {
   "display_name": "Python 3",
   "language": "python",
   "name": "python3"
  },
  "language_info": {
   "codemirror_mode": {
    "name": "ipython",
    "version": 2
   },
   "file_extension": ".py",
   "mimetype": "text/x-python",
   "name": "python",
   "nbconvert_exporter": "python",
   "pygments_lexer": "ipython2",
   "version": "2.7.6"
  },
  "pycharm": {
   "stem_cell": {
    "cell_type": "raw",
    "source": [],
    "metadata": {
     "collapsed": false
    }
   }
  }
 },
 "nbformat": 4,
 "nbformat_minor": 0
}