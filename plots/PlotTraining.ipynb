{
 "cells": [
  {
   "cell_type": "code",
   "execution_count": 1,
   "metadata": {
    "pycharm": {
     "is_executing": false,
     "name": "#%%\n"
    }
   },
   "outputs": [],
   "source": [
    "import os\n",
    "import sys\n",
    "import matplotlib\n",
    "import matplotlib.pyplot as plt\n",
    "import numpy as np\n",
    "import glob\n",
    "import csv\n",
    "import pandas as pd\n",
    "%matplotlib inline\n",
    "import re\n",
    "import seaborn as sns\n",
    "sns.set_style(\"whitegrid\")\n",
    "\n",
    "plt.rcParams['axes.labelsize'] = 18\n",
    "# plt.rcParams['axes.labelweight'] = 'bold'\n",
    "\n",
    "plt.rcParams['xtick.labelsize'] = 18\n",
    "plt.rcParams['ytick.labelsize'] = 18\n",
    "plt.rcParams['legend.fontsize'] = 18\n",
    "\n",
    "# plt.rcParams['xtick.labelweight'] = 'bold'"
   ]
  },
  {
   "cell_type": "code",
   "execution_count": 2,
   "metadata": {
    "pycharm": {
     "is_executing": false,
     "name": "#%%\n"
    }
   },
   "outputs": [],
   "source": [
    "base_folder_location = '../scripts/Final/'\n",
    "\n",
    "# mixmatch_location =  os.path.join(base_folder_location, 'MixMatch/experiments/mixmatch_764365_40X_5/result_outputs/summary.csv')\n",
    "# fixmatch_location =  os.path.join(base_folder_location, 'FixMatch/experiments/fixmatch_764365_40X_5/result_outputs/summary.csv')\n",
    "# pretrained_fixmatch_location =  os.path.join(base_folder_location, 'AutoencoderFixMatch/experiments/autoencoderfixmatch_764365_40X_5/result_outputs/summary.csv')"
   ]
  },
  {
   "cell_type": "code",
   "execution_count": 3,
   "metadata": {
    "pycharm": {
     "is_executing": false
    }
   },
   "outputs": [],
   "source": [
    "mixmatch_location =  os.path.join(base_folder_location, 'MixMatch/experiments/*')\n",
    "fixmatch_location =  os.path.join(base_folder_location, 'FixMatch/experiments/*')\n",
    "pretrained_fixmatch_location =  os.path.join(base_folder_location, 'AutoencoderFixMatch/experiments/*')"
   ]
  },
  {
   "cell_type": "code",
   "execution_count": 4,
   "metadata": {
    "pycharm": {
     "is_executing": false
    }
   },
   "outputs": [
    {
     "data": {
      "text/plain": "<Figure size 432x288 with 0 Axes>"
     },
     "metadata": {},
     "output_type": "display_data"
    }
   ],
   "source": [
    "def print_loss_graphs(location, name):\n",
    "    folders = []\n",
    "    \n",
    "    for index, folder in enumerate(glob.glob(location)):    \n",
    "        if '40X' not in folder:\n",
    "            continue\n",
    "\n",
    "        if not folder.endswith('5'):\n",
    "            continue\n",
    "            \n",
    "        path = os.path.join(folder, 'result_outputs/summary.csv')\n",
    "        folders.append(path)\n",
    "\n",
    "        df_mixmatch = pd.read_csv(path)\n",
    "\n",
    "        df_mixmatch.columns = ['Training Accuracy', 'Training Loss', 'Validation Accuracy', 'Validation Loss',  'Validation F1 Score', \n",
    "                               'val_precision', 'val_recall', 'Epoch']\n",
    "\n",
    "        sns.lineplot(x=\"Epoch\", y=\"Validation Loss\", label=\"Validation Loss\",\n",
    "                     markers=True, data=df_mixmatch, ci=None)\n",
    "\n",
    "        sns.lineplot(x=\"Epoch\", y=\"Training Loss\", label=\"Training Loss\",\n",
    "                     markers=True, data=df_mixmatch, ci=None)\n",
    "\n",
    "        # plt.ticklabel_format(style='sci', axis='x', scilimits=(0,0))\n",
    "        plt.tight_layout()\n",
    "        plt.savefig(f'{name}_{index}.pdf')\n",
    "        plt.clf()\n",
    "    \n",
    "    return folders\n",
    "\n",
    "mixmatch_folders = print_loss_graphs(mixmatch_location, 'MixMatch')\n",
    "fixmatch_folders = print_loss_graphs(fixmatch_location, 'FixMatch')\n",
    "pretrainedFixmatch_folders = print_loss_graphs(pretrained_fixmatch_location, 'PreTrainedFixMatch')"
   ]
  },
  {
   "cell_type": "code",
   "execution_count": 5,
   "metadata": {
    "pycharm": {
     "is_executing": false
    }
   },
   "outputs": [
    {
     "data": {
      "text/plain": "<Figure size 432x288 with 0 Axes>"
     },
     "metadata": {},
     "output_type": "display_data"
    }
   ],
   "source": [
    "for index, (mixmatch, fixmatch, pretrained) in enumerate(zip(mixmatch_folders, fixmatch_folders, pretrainedFixmatch_folders)):\n",
    "    df_mixmatch = pd.read_csv(mixmatch)\n",
    "    df_fixmatch = pd.read_csv(fixmatch)\n",
    "    df_pretrainedFixmatch = pd.read_csv(pretrained)\n",
    "    \n",
    "    df_mixmatch.columns = ['Training Accuracy', 'Training Loss', 'Validation Accuracy', 'Validation Loss',  'Validation F1 Score', \n",
    "                               'val_precision', 'val_recall', 'Epoch']\n",
    "    df_fixmatch.columns = ['Training Accuracy', 'Training Loss', 'Validation Accuracy', 'Validation Loss',  'Validation F1 Score', \n",
    "                               'val_precision', 'val_recall', 'Epoch']\n",
    "    df_pretrainedFixmatch.columns = ['Training Accuracy', 'Training Loss', 'Validation Accuracy', 'Validation Loss',  'Validation F1 Score', \n",
    "                               'val_precision', 'val_recall', 'Epoch']\n",
    "    \n",
    "    sns.lineplot(x=\"Epoch\", y=\"Validation F1 Score\", label=\"MixMatch\",\n",
    "                 markers=True, data=df_mixmatch, ci=None)\n",
    "\n",
    "    sns.lineplot(x=\"Epoch\", y=\"Validation F1 Score\", label=\"FixMatch\",\n",
    "                 markers=True, data=df_fixmatch, ci=None)\n",
    "\n",
    "    sns.lineplot(x=\"Epoch\", y=\"Validation F1 Score\", label=\"Pre-trained FixMatch\",\n",
    "                 markers=True, data=df_pretrainedFixmatch, ci=None)\n",
    "\n",
    "    plt.tight_layout()\n",
    "    plt.savefig(f'F1ScoreAll_{index}.pdf')\n",
    "    plt.clf()"
   ]
  },
  {
   "cell_type": "code",
   "execution_count": 5,
   "metadata": {
    "pycharm": {
     "is_executing": false
    }
   },
   "outputs": [],
   "source": []
  }
 ],
 "metadata": {
  "kernelspec": {
   "display_name": "Python 3",
   "language": "python",
   "name": "python3"
  },
  "language_info": {
   "codemirror_mode": {
    "name": "ipython",
    "version": 3
   },
   "file_extension": ".py",
   "mimetype": "text/x-python",
   "name": "python",
   "nbconvert_exporter": "python",
   "pygments_lexer": "ipython3",
   "version": "3.7.4"
  },
  "pycharm": {
   "stem_cell": {
    "cell_type": "raw",
    "source": [],
    "metadata": {
     "collapsed": false
    }
   }
  }
 },
 "nbformat": 4,
 "nbformat_minor": 1
}