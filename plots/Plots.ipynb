{
 "cells": [
  {
   "cell_type": "code",
   "execution_count": 31,
   "metadata": {
    "collapsed": true,
    "pycharm": {
     "is_executing": false
    }
   },
   "outputs": [],
   "source": [
    "import os\n",
    "import sys\n",
    "import matplotlib\n",
    "import matplotlib.pyplot as plt\n",
    "import numpy as np\n",
    "import glob\n",
    "import csv\n",
    "import pandas as pd\n",
    "%matplotlib inline\n",
    "\n",
    "import seaborn as sns\n",
    "sns.set_style(\"whitegrid\")"
   ]
  },
  {
   "cell_type": "code",
   "execution_count": 20,
   "outputs": [],
   "source": [
    "base_folder_location = '../scripts/Final/'\n",
    "\n",
    "autoencoder_location = os.path.join(base_folder_location, 'Autoencoder/experiments/*')\n",
    "autoencoder_fixmatch_location = os.path.join(base_folder_location, 'AutoencoderFixMatch/experiments/*')\n",
    "fixmatch_location = os.path.join(base_folder_location, 'FixMatch/experiments/*')\n",
    "mixmatch_location = os.path.join(base_folder_location, 'MixMatch/experiments/*')"
   ],
   "metadata": {
    "collapsed": false,
    "pycharm": {
     "name": "#%%\n",
     "is_executing": false
    }
   }
  },
  {
   "cell_type": "code",
   "execution_count": 98,
   "outputs": [],
   "source": [
    "def get_test_information(location, columns_names, columns_file_values):\n",
    "    all_columns = []\n",
    "    all_columns.extend(columns_names)\n",
    "    all_columns.extend(columns_file_values)\n",
    "\n",
    "    df = pd.DataFrame(columns=all_columns)\n",
    "    \n",
    "    for experiment in glob.glob(location):\n",
    "        folder_name = os.path.basename(experiment)\n",
    "        hyper_parameters = folder_name.split('_')\n",
    "        \n",
    "        test_summary_location = os.path.join(experiment, 'result_outputs/test_summary.csv')\n",
    "        \n",
    "        with open(test_summary_location, 'r') as csvfile:\n",
    "            csvreader = csv.reader(csvfile)\n",
    "            next(csvreader)\n",
    "            values = next(csvreader)\n",
    "            \n",
    "            all_values = []\n",
    "            all_values.extend(hyper_parameters)\n",
    "            all_values.extend(values)\n",
    "            \n",
    "            df = df.append(dict(zip(df.columns, all_values)), ignore_index=True)\n",
    "    \n",
    "    return df\n",
    "\n",
    "df_mixmatch = get_test_information(mixmatch_location, ['Model', 'Seed', 'Magnification', 'Labeled Amount'], ['Test Acc', 'Test Loss'])\n",
    "\n",
    "df_mixmatch[\"Test Loss\"] = pd.to_numeric(df_mixmatch[\"Test Loss\"])\n",
    "df_mixmatch[\"Labeled Amount\"] = pd.to_numeric(df_mixmatch[\"Labeled Amount\"])\n",
    "df_mixmatch[\"Test Acc\"] = pd.to_numeric(df_mixmatch[\"Test Acc\"])\n",
    "\n",
    "df_fixmatch = get_test_information(fixmatch_location, ['Model', 'Seed', 'Magnification', 'Labeled Amount'], ['Test Acc', 'Test Loss'])\n",
    "\n",
    "df_fixmatch[\"Test Loss\"] = pd.to_numeric(df_fixmatch[\"Test Loss\"])\n",
    "df_fixmatch[\"Labeled Amount\"] = pd.to_numeric(df_fixmatch[\"Labeled Amount\"])\n",
    "df_fixmatch[\"Test Acc\"] = pd.to_numeric(df_fixmatch[\"Test Acc\"])\n",
    "\n",
    "df_autofixmatch = get_test_information(autoencoder_fixmatch_location, ['Model', 'Seed', 'Magnification', 'Labeled Amount'], ['Test Acc', 'Test Loss'])\n",
    "\n",
    "df_autofixmatch[\"Test Loss\"] = pd.to_numeric(df_autofixmatch[\"Test Loss\"])\n",
    "df_autofixmatch[\"Labeled Amount\"] = pd.to_numeric(df_autofixmatch[\"Labeled Amount\"])\n",
    "df_autofixmatch[\"Test Acc\"] = pd.to_numeric(df_autofixmatch[\"Test Acc\"])"
   ],
   "metadata": {
    "collapsed": false,
    "pycharm": {
     "name": "#%%\n",
     "is_executing": false
    }
   }
  },
  {
   "cell_type": "code",
   "execution_count": null,
   "outputs": [],
   "source": [],
   "metadata": {
    "collapsed": false,
    "pycharm": {
     "name": "#%%\n"
    }
   }
  },
  {
   "cell_type": "code",
   "execution_count": 101,
   "outputs": [],
   "source": [
    "df_all = df_mixmatch.append(df_fixmatch).append(df_autofixmatch)\n"
   ],
   "metadata": {
    "collapsed": false,
    "pycharm": {
     "name": "#%%\n",
     "is_executing": false
    }
   }
  },
  {
   "cell_type": "code",
   "execution_count": 103,
   "outputs": [
    {
     "data": {
      "text/plain": "<Figure size 432x288 with 0 Axes>"
     },
     "metadata": {},
     "output_type": "display_data"
    }
   ],
   "source": [
    "for magnification in ['40X', '100X', '200X', '400X']:\n",
    "    df = df_all[df_all['Magnification'] == magnification]\n",
    "\n",
    "    sns.lineplot(x=\"Labeled Amount\", y=\"Test Loss\", \n",
    "                 hue=\"Model\", style=\"Model\",\n",
    "                 markers=True, data=df)\n",
    "    \n",
    "    plt.savefig(f'{magnification}.pdf')\n",
    "    plt.clf()\n"
   ],
   "metadata": {
    "collapsed": false,
    "pycharm": {
     "name": "#%%\n",
     "is_executing": false
    }
   }
  }
 ],
 "metadata": {
  "kernelspec": {
   "display_name": "Python 3",
   "language": "python",
   "name": "python3"
  },
  "language_info": {
   "codemirror_mode": {
    "name": "ipython",
    "version": 2
   },
   "file_extension": ".py",
   "mimetype": "text/x-python",
   "name": "python",
   "nbconvert_exporter": "python",
   "pygments_lexer": "ipython2",
   "version": "2.7.6"
  },
  "pycharm": {
   "stem_cell": {
    "cell_type": "raw",
    "source": [],
    "metadata": {
     "collapsed": false
    }
   }
  }
 },
 "nbformat": 4,
 "nbformat_minor": 0
}