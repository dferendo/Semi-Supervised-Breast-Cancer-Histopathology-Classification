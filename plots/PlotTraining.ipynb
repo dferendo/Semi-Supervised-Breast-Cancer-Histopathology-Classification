{
 "cells": [
  {
   "cell_type": "code",
   "execution_count": 1,
   "metadata": {
    "pycharm": {
     "name": "#%%\n"
    }
   },
   "outputs": [],
   "source": [
    "import os\n",
    "import sys\n",
    "import matplotlib\n",
    "import matplotlib.pyplot as plt\n",
    "import numpy as np\n",
    "import glob\n",
    "import csv\n",
    "import pandas as pd\n",
    "%matplotlib inline\n",
    "\n",
    "import seaborn as sns\n",
    "sns.set_style(\"whitegrid\")"
   ]
  },
  {
   "cell_type": "code",
   "execution_count": 29,
   "metadata": {
    "pycharm": {
     "name": "#%%\n"
    }
   },
   "outputs": [],
   "source": [
    "base_folder_location = '../scripts/Final/'\n",
    "\n",
    "mixmatch_location =  os.path.join(base_folder_location, 'MixMatch/experiments/mixmatch_764365_40X_5/result_outputs/summary.csv')\n",
    "fixmatch_location =  os.path.join(base_folder_location, 'FixMatch/experiments/fixmatch_764365_40X_5/result_outputs/summary.csv')\n",
    "pretrained_fixmatch_location =  os.path.join(base_folder_location, 'AutoencoderFixMatch/experiments/autoencoderfixmatch_764365_40X_5/result_outputs/summary.csv')\n",
    "\n",
    "df_mixmatch = pd.read_csv(mixmatch_location)\n",
    "df_fixmatch = pd.read_csv(fixmatch_location)\n",
    "df_pretrained = pd.read_csv(pretrained_fixmatch_location)"
   ]
  },
  {
   "cell_type": "code",
   "execution_count": 44,
   "metadata": {},
   "outputs": [],
   "source": [
    "df_mixmatch.columns = ['Training Accuracy', 'Training Loss', 'Validation Accuracy', 'Validation Loss', 'Epoch']\n",
    "df_fixmatch.columns = ['Training Accuracy', 'Training Loss', 'Validation Accuracy', 'Validation Loss', 'Validation F1 Score', \n",
    "                       'val_precision', 'val_recall', 'Epoch']\n",
    "df_pretrained.columns = ['Training Accuracy', 'Training Loss', 'Validation Accuracy', 'Validation Loss', 'Validation F1 Score', \n",
    "                       'val_precision', 'val_recall', 'Epoch']"
   ]
  },
  {
   "cell_type": "code",
   "execution_count": 45,
   "metadata": {
    "pycharm": {
     "is_executing": false,
     "name": "#%%\n"
    }
   },
   "outputs": [
    {
     "data": {
      "text/plain": [
       "<Figure size 432x288 with 0 Axes>"
      ]
     },
     "metadata": {},
     "output_type": "display_data"
    }
   ],
   "source": [
    "sns.lineplot(x=\"Epoch\", y=\"Validation Loss\", label=\"Validation Loss\",\n",
    "             markers=True, data=df_mixmatch, ci=None)\n",
    "\n",
    "sns.lineplot(x=\"Epoch\", y=\"Training Loss\", label=\"Training Loss\",\n",
    "             markers=True, data=df_mixmatch, ci=None)\n",
    "\n",
    "# plt.ticklabel_format(style='sci', axis='x', scilimits=(0,0))\n",
    "plt.savefig(f'MixMatch.pdf')\n",
    "plt.clf()"
   ]
  },
  {
   "cell_type": "code",
   "execution_count": 46,
   "metadata": {},
   "outputs": [
    {
     "data": {
      "text/plain": [
       "<Figure size 432x288 with 0 Axes>"
      ]
     },
     "metadata": {},
     "output_type": "display_data"
    }
   ],
   "source": [
    "sns.lineplot(x=\"Epoch\", y=\"Validation Loss\", label=\"Validation Loss\",\n",
    "             markers=True, data=df_fixmatch, ci=None)\n",
    "\n",
    "sns.lineplot(x=\"Epoch\", y=\"Training Loss\", label=\"Training Loss\",\n",
    "             markers=True, data=df_fixmatch, ci=None)\n",
    "\n",
    "# plt.ticklabel_format(style='sci', axis='x', scilimits=(0,0))\n",
    "plt.savefig(f'FixMatch.pdf')\n",
    "plt.clf()"
   ]
  },
  {
   "cell_type": "code",
   "execution_count": 47,
   "metadata": {},
   "outputs": [
    {
     "data": {
      "text/plain": [
       "<Figure size 432x288 with 0 Axes>"
      ]
     },
     "metadata": {},
     "output_type": "display_data"
    }
   ],
   "source": [
    "sns.lineplot(x=\"Epoch\", y=\"Validation Loss\", label=\"Validation Loss\",\n",
    "             markers=True, data=df_pretrained, ci=None)\n",
    "\n",
    "sns.lineplot(x=\"Epoch\", y=\"Training Loss\", label=\"Training Loss\",\n",
    "             markers=True, data=df_pretrained, ci=None)\n",
    "\n",
    "# plt.ticklabel_format(style='sci', axis='x', scilimits=(0,0))\n",
    "plt.savefig(f'PretrainedFixMatch.pdf')\n",
    "plt.clf()"
   ]
  },
  {
   "cell_type": "code",
   "execution_count": null,
   "metadata": {},
   "outputs": [],
   "source": []
  }
 ],
 "metadata": {
  "kernelspec": {
   "display_name": "Python 3",
   "language": "python",
   "name": "python3"
  },
  "language_info": {
   "codemirror_mode": {
    "name": "ipython",
    "version": 3
   },
   "file_extension": ".py",
   "mimetype": "text/x-python",
   "name": "python",
   "nbconvert_exporter": "python",
   "pygments_lexer": "ipython3",
   "version": "3.7.4"
  },
  "pycharm": {
   "stem_cell": {
    "cell_type": "raw",
    "metadata": {
     "collapsed": false
    },
    "source": []
   }
  }
 },
 "nbformat": 4,
 "nbformat_minor": 1
}
